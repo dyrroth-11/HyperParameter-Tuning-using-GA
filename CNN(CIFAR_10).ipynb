{
  "nbformat": 4,
  "nbformat_minor": 0,
  "metadata": {
    "colab": {
      "name": "CNN(CIFAR-10).ipynb",
      "provenance": []
    },
    "kernelspec": {
      "name": "python3",
      "display_name": "Python 3"
    },
    "language_info": {
      "name": "python"
    },
    "accelerator": "GPU"
  },
  "cells": [
    {
      "cell_type": "markdown",
      "metadata": {
        "id": "rmiSgHW7NANr"
      },
      "source": [
        "# **CNN for CIFAR-10**"
      ]
    },
    {
      "cell_type": "markdown",
      "metadata": {
        "id": "hqMrlgvqKrmf"
      },
      "source": [
        "The dataset is comprised of 60,000 32×32 pixel color photographs of objects from 10 classes, such as frogs, birds, cats, ships, etc. The class labels and their standard associated integer values are listed below.\n",
        "\n",
        "Cifar10 classes:\n",
        "\n",
        "- 0 : airplane\n",
        "- 1 : automobile\n",
        "- 2 : bird\n",
        "- 3 : cat\n",
        "- 4 : deer\n",
        "- 5 : dog\n",
        "- 6 : frog\n",
        "- 7 : horse\n",
        "- 8 : ship\n",
        "- 9 : truck"
      ]
    },
    {
      "cell_type": "markdown",
      "metadata": {
        "id": "83ZfGzX-L8h_"
      },
      "source": [
        "**Importing Data**"
      ]
    },
    {
      "cell_type": "code",
      "metadata": {
        "colab": {
          "base_uri": "https://localhost:8080/"
        },
        "id": "KIdr64ivIMPm",
        "outputId": "1f42b0ab-efd6-40b4-e55b-86c22e32f54f"
      },
      "source": [
        "from tensorflow.keras import datasets\n",
        "\n",
        "(x_train, y_train), (x_test, y_test) = datasets.cifar10.load_data()"
      ],
      "execution_count": 1,
      "outputs": [
        {
          "output_type": "stream",
          "name": "stdout",
          "text": [
            "Downloading data from https://www.cs.toronto.edu/~kriz/cifar-10-python.tar.gz\n",
            "170500096/170498071 [==============================] - 3s 0us/step\n",
            "170508288/170498071 [==============================] - 3s 0us/step\n"
          ]
        }
      ]
    },
    {
      "cell_type": "markdown",
      "metadata": {
        "id": "1pLyFzExMmEt"
      },
      "source": [
        "**Pre-Processing the Data**"
      ]
    },
    {
      "cell_type": "code",
      "metadata": {
        "colab": {
          "base_uri": "https://localhost:8080/"
        },
        "id": "Y1q9NO7JImNO",
        "outputId": "2557d32f-053b-49de-b53e-c09054423937"
      },
      "source": [
        "x_train.shape, y_train.shape"
      ],
      "execution_count": 19,
      "outputs": [
        {
          "output_type": "execute_result",
          "data": {
            "text/plain": [
              "((50000, 32, 32, 3), (50000, 1))"
            ]
          },
          "metadata": {},
          "execution_count": 19
        }
      ]
    },
    {
      "cell_type": "code",
      "metadata": {
        "colab": {
          "base_uri": "https://localhost:8080/"
        },
        "id": "84O3ypziIo8C",
        "outputId": "de651858-2ff9-49ba-8611-30ae567eb68e"
      },
      "source": [
        "x_test.shape, y_test.shape"
      ],
      "execution_count": 20,
      "outputs": [
        {
          "output_type": "execute_result",
          "data": {
            "text/plain": [
              "((10000, 32, 32, 3), (10000, 1))"
            ]
          },
          "metadata": {},
          "execution_count": 20
        }
      ]
    },
    {
      "cell_type": "code",
      "metadata": {
        "id": "Tr6L55vDMRBD"
      },
      "source": [
        "train_images =x_train.astype('float32')/255\n",
        "test_images=x_test.astype('float32')/255"
      ],
      "execution_count": 21,
      "outputs": []
    },
    {
      "cell_type": "code",
      "metadata": {
        "id": "beabgde3MUPA"
      },
      "source": [
        "from tensorflow.keras.utils import to_categorical\n",
        "\n",
        "train_labels=to_categorical(y_train)\n",
        "test_labels=to_categorical(y_test)"
      ],
      "execution_count": 22,
      "outputs": []
    },
    {
      "cell_type": "code",
      "metadata": {
        "id": "7KrlPt-gMYva"
      },
      "source": [
        "val_images=train_images[:10000]\n",
        "partial_images=train_images[10000:]\n",
        "\n",
        "val_labels=train_labels[:10000]\n",
        "partial_labels=train_labels[10000:]"
      ],
      "execution_count": 23,
      "outputs": []
    },
    {
      "cell_type": "code",
      "metadata": {
        "colab": {
          "base_uri": "https://localhost:8080/",
          "height": 283
        },
        "id": "4-ZFLHi_IqvF",
        "outputId": "f40f3eef-b2f7-4006-b7f2-5039a0addaf9"
      },
      "source": [
        "\n",
        "import matplotlib.pyplot as plt \n",
        "plt.imshow(x_train[1])\n",
        "print(\"Class: \", y_train[1])"
      ],
      "execution_count": 24,
      "outputs": [
        {
          "output_type": "stream",
          "name": "stdout",
          "text": [
            "Class:  [9]\n"
          ]
        },
        {
          "output_type": "display_data",
          "data": {
            "image/png": "[encoded data removed]",
            "text/plain": [
              "<Figure size 432x288 with 1 Axes>"
            ]
          },
          "metadata": {
            "needs_background": "light"
          }
        }
      ]
    },
    {
      "cell_type": "code",
      "metadata": {
        "colab": {
          "base_uri": "https://localhost:8080/"
        },
        "id": "Lu_-4AkUJDa-",
        "outputId": "7be80448-67ab-41a9-821f-76d5ed86d289"
      },
      "source": [
        "import numpy as np\n",
        "np.unique(y_train)"
      ],
      "execution_count": 25,
      "outputs": [
        {
          "output_type": "execute_result",
          "data": {
            "text/plain": [
              "array([0, 1, 2, 3, 4, 5, 6, 7, 8, 9], dtype=uint8)"
            ]
          },
          "metadata": {},
          "execution_count": 25
        }
      ]
    },
    {
      "cell_type": "markdown",
      "metadata": {
        "id": "rH6vutH6Msoj"
      },
      "source": [
        "**Building CNN model**"
      ]
    },
    {
      "cell_type": "code",
      "metadata": {
        "id": "00Wm4IG7JFEg"
      },
      "source": [
        "from tensorflow.keras import models\n",
        "from tensorflow.keras import layers\n",
        "\n",
        "model = models.Sequential()\n",
        "model.add(layers.Conv2D(32, (3,3), input_shape=(32,32,3), activation = \"relu\"))\n",
        "model.add(layers.BatchNormalization())\n",
        "model.add(layers.Conv2D(32, (3,3), activation = \"relu\"))\n",
        "model.add(layers.BatchNormalization())\n",
        "model.add(layers.MaxPooling2D(2,2))\n",
        "model.add(layers.Conv2D(64, (3,3), activation = \"relu\"))\n",
        "model.add(layers.BatchNormalization())\n",
        "model.add(layers.Conv2D(64, (3,3), activation = \"relu\"))\n",
        "model.add(layers.BatchNormalization())\n",
        "model.add(layers.MaxPooling2D(2,2))\n",
        "model.add(layers.Conv2D(128, (3,3), activation = \"relu\"))\n",
        "model.add(layers.BatchNormalization())\n",
        "model.add(layers.MaxPooling2D(2,2))\n",
        "model.add(layers.Flatten())\n",
        "model.add(layers.Dropout(0.2))\n",
        "model.add(layers.Dense(512, activation=\"relu\"))\n",
        "model.add(layers.Dropout(0.2))\n",
        "model.add(layers.Dense(10, activation=\"softmax\"))"
      ],
      "execution_count": 26,
      "outputs": []
    },
    {
      "cell_type": "code",
      "metadata": {
        "colab": {
          "base_uri": "https://localhost:8080/"
        },
        "id": "MoBxvqUbJKHR",
        "outputId": "773bebae-6ad6-481a-a09b-02e203dea256"
      },
      "source": [
        "model.summary()"
      ],
      "execution_count": 27,
      "outputs": [
        {
          "output_type": "stream",
          "name": "stdout",
          "text": [
            "Model: \"sequential_1\"\n",
            "_________________________________________________________________\n",
            "Layer (type)                 Output Shape              Param #   \n",
            "=================================================================\n",
            "conv2d_5 (Conv2D)            (None, 30, 30, 32)        896       \n",
            "_________________________________________________________________\n",
            "batch_normalization_5 (Batch (None, 30, 30, 32)        128       \n",
            "_________________________________________________________________\n",
            "conv2d_6 (Conv2D)            (None, 28, 28, 32)        9248      \n",
            "_________________________________________________________________\n",
            "batch_normalization_6 (Batch (None, 28, 28, 32)        128       \n",
            "_________________________________________________________________\n",
            "max_pooling2d_3 (MaxPooling2 (None, 14, 14, 32)        0         \n",
            "_________________________________________________________________\n",
            "conv2d_7 (Conv2D)            (None, 12, 12, 64)        18496     \n",
            "_________________________________________________________________\n",
            "batch_normalization_7 (Batch (None, 12, 12, 64)        256       \n",
            "_________________________________________________________________\n",
            "conv2d_8 (Conv2D)            (None, 10, 10, 64)        36928     \n",
            "_________________________________________________________________\n",
            "batch_normalization_8 (Batch (None, 10, 10, 64)        256       \n",
            "_________________________________________________________________\n",
            "max_pooling2d_4 (MaxPooling2 (None, 5, 5, 64)          0         \n",
            "_________________________________________________________________\n",
            "conv2d_9 (Conv2D)            (None, 3, 3, 128)         73856     \n",
            "_________________________________________________________________\n",
            "batch_normalization_9 (Batch (None, 3, 3, 128)         512       \n",
            "_________________________________________________________________\n",
            "max_pooling2d_5 (MaxPooling2 (None, 1, 1, 128)         0         \n",
            "_________________________________________________________________\n",
            "flatten_1 (Flatten)          (None, 128)               0         \n",
            "_________________________________________________________________\n",
            "dropout_2 (Dropout)          (None, 128)               0         \n",
            "_________________________________________________________________\n",
            "dense_2 (Dense)              (None, 512)               66048     \n",
            "_________________________________________________________________\n",
            "dropout_3 (Dropout)          (None, 512)               0         \n",
            "_________________________________________________________________\n",
            "dense_3 (Dense)              (None, 10)                5130      \n",
            "=================================================================\n",
            "Total params: 211,882\n",
            "Trainable params: 211,242\n",
            "Non-trainable params: 640\n",
            "_________________________________________________________________\n"
          ]
        }
      ]
    },
    {
      "cell_type": "code",
      "metadata": {
        "id": "LApj7vaTJj9Q"
      },
      "source": [
        "from tensorflow.keras import optimizers\n",
        "\n",
        "model.compile(loss=\"categorical_crossentropy\",optimizer=optimizers.Adam(0.01),metrics=[\"accuracy\"])"
      ],
      "execution_count": 28,
      "outputs": []
    },
    {
      "cell_type": "code",
      "metadata": {
        "id": "3V-Px-EvJnRh"
      },
      "source": [
        "from tensorflow.keras.callbacks import EarlyStopping\n",
        "\n",
        "es = EarlyStopping(monitor= \"val_accuracy\", patience = 7)"
      ],
      "execution_count": 29,
      "outputs": []
    },
    {
      "cell_type": "code",
      "metadata": {
        "colab": {
          "base_uri": "https://localhost:8080/"
        },
        "id": "Ovv8GIFvJrjS",
        "outputId": "92c53ff2-b457-42e3-9d16-e0a1f435c54c"
      },
      "source": [
        "history = model.fit(partial_images, partial_labels, validation_data=(val_images,val_labels), epochs=60, callbacks=[es])"
      ],
      "execution_count": 13,
      "outputs": [
        {
          "output_type": "stream",
          "name": "stdout",
          "text": [
            "Epoch 1/60\n",
            "1250/1250 [==============================] - 51s 17ms/step - loss: 1.7293 - accuracy: 0.3738 - val_loss: 1.6665 - val_accuracy: 0.3990\n",
            "Epoch 2/60\n",
            "1250/1250 [==============================] - 20s 16ms/step - loss: 1.3577 - accuracy: 0.5213 - val_loss: 1.1749 - val_accuracy: 0.5844\n",
            "Epoch 3/60\n",
            "1250/1250 [==============================] - 20s 16ms/step - loss: 1.1859 - accuracy: 0.5898 - val_loss: 1.0921 - val_accuracy: 0.6217\n",
            "Epoch 4/60\n",
            "1250/1250 [==============================] - 20s 16ms/step - loss: 1.0925 - accuracy: 0.6273 - val_loss: 1.0529 - val_accuracy: 0.6346\n",
            "Epoch 5/60\n",
            "1250/1250 [==============================] - 20s 16ms/step - loss: 1.0273 - accuracy: 0.6509 - val_loss: 1.0401 - val_accuracy: 0.6370\n",
            "Epoch 6/60\n",
            "1250/1250 [==============================] - 20s 16ms/step - loss: 0.9695 - accuracy: 0.6703 - val_loss: 1.0331 - val_accuracy: 0.6544\n",
            "Epoch 7/60\n",
            "1250/1250 [==============================] - 20s 16ms/step - loss: 0.9334 - accuracy: 0.6833 - val_loss: 1.0455 - val_accuracy: 0.6466\n",
            "Epoch 8/60\n",
            "1250/1250 [==============================] - 21s 17ms/step - loss: 0.8968 - accuracy: 0.6990 - val_loss: 0.9200 - val_accuracy: 0.6833\n",
            "Epoch 9/60\n",
            "1250/1250 [==============================] - 21s 17ms/step - loss: 0.8615 - accuracy: 0.7121 - val_loss: 0.8975 - val_accuracy: 0.6938\n",
            "Epoch 10/60\n",
            "1250/1250 [==============================] - 20s 16ms/step - loss: 0.8295 - accuracy: 0.7222 - val_loss: 0.8384 - val_accuracy: 0.7211\n",
            "Epoch 11/60\n",
            "1250/1250 [==============================] - 20s 16ms/step - loss: 0.8016 - accuracy: 0.7330 - val_loss: 0.9091 - val_accuracy: 0.7005\n",
            "Epoch 12/60\n",
            "1250/1250 [==============================] - 21s 16ms/step - loss: 0.7761 - accuracy: 0.7441 - val_loss: 0.9081 - val_accuracy: 0.7025\n",
            "Epoch 13/60\n",
            "1250/1250 [==============================] - 20s 16ms/step - loss: 0.7530 - accuracy: 0.7495 - val_loss: 0.8929 - val_accuracy: 0.6957\n",
            "Epoch 14/60\n",
            "1250/1250 [==============================] - 20s 16ms/step - loss: 0.7347 - accuracy: 0.7571 - val_loss: 0.9638 - val_accuracy: 0.6960\n",
            "Epoch 15/60\n",
            "1250/1250 [==============================] - 20s 16ms/step - loss: 0.7185 - accuracy: 0.7636 - val_loss: 0.8632 - val_accuracy: 0.7168\n",
            "Epoch 16/60\n",
            "1250/1250 [==============================] - 21s 17ms/step - loss: 0.6963 - accuracy: 0.7675 - val_loss: 0.9411 - val_accuracy: 0.7014\n",
            "Epoch 17/60\n",
            "1250/1250 [==============================] - 20s 16ms/step - loss: 0.6797 - accuracy: 0.7774 - val_loss: 0.9029 - val_accuracy: 0.7178\n"
          ]
        }
      ]
    },
    {
      "cell_type": "code",
      "metadata": {
        "colab": {
          "base_uri": "https://localhost:8080/"
        },
        "id": "fa97ZoUoJ_hy",
        "outputId": "a5e421bd-0d23-42ce-c160-5baacf1f7b63"
      },
      "source": [
        "metrics = model.evaluate(test_images, test_labels)"
      ],
      "execution_count": 14,
      "outputs": [
        {
          "output_type": "stream",
          "name": "stdout",
          "text": [
            "313/313 [==============================] - 2s 6ms/step - loss: 0.9202 - accuracy: 0.7120\n"
          ]
        }
      ]
    },
    {
      "cell_type": "code",
      "metadata": {
        "colab": {
          "base_uri": "https://localhost:8080/"
        },
        "id": "vINmdLAQKGJ5",
        "outputId": "5c94ad27-f999-4a58-bfc2-ae07f3509c18"
      },
      "source": [
        "print(\"Loss: \", metrics[0])\n",
        "print(\"Accuracy: \",metrics[1])"
      ],
      "execution_count": 15,
      "outputs": [
        {
          "output_type": "stream",
          "name": "stdout",
          "text": [
            "Loss:  0.9202441573143005\n",
            "Accuracy:  0.7120000123977661\n"
          ]
        }
      ]
    }
  ]
}