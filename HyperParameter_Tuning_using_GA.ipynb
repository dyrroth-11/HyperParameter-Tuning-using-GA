{
  "nbformat": 4,
  "nbformat_minor": 0,
  "metadata": {
    "colab": {
      "name": "HyperParameter Tuning using GA.ipynb",
      "provenance": []
    },
    "kernelspec": {
      "name": "python3",
      "display_name": "Python 3"
    },
    "language_info": {
      "name": "python"
    },
    "accelerator": "GPU"
  },
  "cells": [
    {
      "cell_type": "markdown",
      "metadata": {
        "id": "ZmlZlXcPjsME"
      },
      "source": [
        "# **HyperParameter Tuning using GA (using imbalanced dataset - CIFAR-10 )**"
      ]
    },
    {
      "cell_type": "code",
      "metadata": {
        "colab": {
          "base_uri": "https://localhost:8080/"
        },
        "id": "jIDZsW5bSeP5",
        "outputId": "44576cf3-e960-488b-fd4d-63381ba92747"
      },
      "source": [
        "from tensorflow.keras import datasets\n",
        "\n",
        "(x_train, y_train), (x_test, y_test) = datasets.cifar10.load_data()"
      ],
      "execution_count": 1,
      "outputs": [
        {
          "output_type": "stream",
          "name": "stdout",
          "text": [
            "Downloading data from https://www.cs.toronto.edu/~kriz/cifar-10-python.tar.gz\n",
            "170500096/170498071 [==============================] - 2s 0us/step\n",
            "170508288/170498071 [==============================] - 2s 0us/step\n"
          ]
        }
      ]
    },
    {
      "cell_type": "code",
      "metadata": {
        "colab": {
          "base_uri": "https://localhost:8080/"
        },
        "id": "i7Bts3y0Sv-k",
        "outputId": "1ec9dc65-55b6-4027-c483-47b89af85a63"
      },
      "source": [
        "x_train.shape, y_train.shape"
      ],
      "execution_count": 2,
      "outputs": [
        {
          "output_type": "execute_result",
          "data": {
            "text/plain": [
              "((50000, 32, 32, 3), (50000, 1))"
            ]
          },
          "metadata": {},
          "execution_count": 2
        }
      ]
    },
    {
      "cell_type": "code",
      "metadata": {
        "colab": {
          "base_uri": "https://localhost:8080/"
        },
        "id": "LLlfHkbIS4Fe",
        "outputId": "66a27fa0-7581-4bae-ee57-84c0d529a267"
      },
      "source": [
        "x_test.shape, y_test.shape"
      ],
      "execution_count": 3,
      "outputs": [
        {
          "output_type": "execute_result",
          "data": {
            "text/plain": [
              "((10000, 32, 32, 3), (10000, 1))"
            ]
          },
          "metadata": {},
          "execution_count": 3
        }
      ]
    },
    {
      "cell_type": "code",
      "metadata": {
        "id": "G5ELyjujS59U"
      },
      "source": [
        "train_images =x_train.astype('float32')/255\n",
        "test_images=x_test.astype('float32')/255"
      ],
      "execution_count": 4,
      "outputs": []
    },
    {
      "cell_type": "code",
      "metadata": {
        "id": "GTO3ws1bS-VR"
      },
      "source": [
        "from tensorflow.keras.utils import to_categorical\n",
        "\n",
        "train_labels=to_categorical(y_train)\n",
        "test_labels=to_categorical(y_test)"
      ],
      "execution_count": 5,
      "outputs": []
    },
    {
      "cell_type": "code",
      "metadata": {
        "id": "5MZeIzQbTAqJ"
      },
      "source": [
        "val_images=train_images[:10000]\n",
        "partial_images=train_images[10000:]\n",
        "\n",
        "val_labels=train_labels[:10000]\n",
        "partial_labels=train_labels[10000:]"
      ],
      "execution_count": 6,
      "outputs": []
    },
    {
      "cell_type": "code",
      "metadata": {
        "id": "QUTNEQp_TB3D"
      },
      "source": [
        "from tensorflow.keras import models\n",
        "from tensorflow.keras import layers\n",
        "from tensorflow.keras.callbacks import EarlyStopping"
      ],
      "execution_count": 7,
      "outputs": []
    },
    {
      "cell_type": "code",
      "metadata": {
        "id": "8lBks1zMTLMx"
      },
      "source": [
        "def CNN_model( f1, f2, f3, k, a1, a2, d1, d2, op, ep):\n",
        "  model = models.Sequential()\n",
        "  model.add(layers.Conv2D(filters = f1, kernel_size = (k, k), activation = a1, input_shape = (32,32,3)))\n",
        "  model.add(layers.Conv2D(filters = f1, kernel_size = (k, k), activation = a1))\n",
        "  model.add(layers.MaxPooling2D(2,2))\n",
        "  model.add(layers.Conv2D(filters = f2, kernel_size = (k, k), activation = a2))\n",
        "  model.add(layers.Conv2D(filters = f2, kernel_size = (k, k), activation = a2))\n",
        "  model.add(layers.MaxPooling2D(2,2))\n",
        "  model.add(layers.Flatten())\n",
        "  model.add(layers.Dropout(rate = d1))\n",
        "  model.add(layers.Dense(units = f3, activation = a2))\n",
        "  model.add(layers.Dropout(rate = d2))\n",
        "  model.add(layers.Dense(10, activation= \"softmax\"))\n",
        "\n",
        "  model.compile(loss = \"categorical_crossentropy\", optimizer = op, metrics = [\"accuracy\"])\n",
        "  es = EarlyStopping(monitor=\"val_accuracy\", patience = 7)\n",
        "  model.fit(partial_images, partial_labels, validation_data=(val_images,val_labels), epochs=ep, batch_size = 100, callbacks = [es], verbose=0)\n",
        "\n",
        "  return model"
      ],
      "execution_count": 8,
      "outputs": []
    },
    {
      "cell_type": "code",
      "metadata": {
        "id": "TB_eXobHTOeC"
      },
      "source": [
        "from random import choice\n",
        "from random import uniform\n",
        "from numpy.random import randint"
      ],
      "execution_count": 9,
      "outputs": []
    },
    {
      "cell_type": "code",
      "metadata": {
        "id": "5hasCzpJTPXr"
      },
      "source": [
        "def initialization():  \n",
        "  parameters = {}\n",
        "  f1 = choice([32, 64])\n",
        "  parameters[\"f1\"] = f1\n",
        "  f2 = choice([64, 128])\n",
        "  parameters[\"f2\"] = f2\n",
        "  f3 = choice([128, 256, 512])\n",
        "  parameters[\"f3\"] = f3\n",
        "  k = choice([3,5])\n",
        "  parameters[\"k\"] = k\n",
        "  a1 = choice([\"relu\", \"selu\", \"elu\"])\n",
        "  parameters[\"a1\"] = a1\n",
        "  a2 = choice([\"relu\", \"selu\", \"elu\"])\n",
        "  parameters[\"a2\"] = a2\n",
        "  d1 = round(uniform(0.1, 0.5), 1)\n",
        "  parameters[\"d1\"] = d1\n",
        "  d2 = round(uniform(0.1, 0.5), 1)\n",
        "  parameters[\"d2\"] = d2\n",
        "  op = choice([\"adamax\", \"adadelta\", \"adam\", \"adagrad\"])\n",
        "  parameters[\"op\"] = op\n",
        "  ep = randint(50, 100)\n",
        "  parameters[\"ep\"] = ep\n",
        "  return parameters"
      ],
      "execution_count": 10,
      "outputs": []
    },
    {
      "cell_type": "code",
      "metadata": {
        "id": "4rW894zPTTVX"
      },
      "source": [
        "def generate_population(n):\n",
        "  population = []\n",
        "  for i in range(n):\n",
        "    chromosome = initialization()\n",
        "    population.append(chromosome)\n",
        "  return population"
      ],
      "execution_count": 11,
      "outputs": []
    },
    {
      "cell_type": "code",
      "metadata": {
        "id": "PCwW1Z4aTVoa"
      },
      "source": [
        "def fitness_evaluation(model):\n",
        "  metrics = model.evaluate(test_images, test_labels)\n",
        "  return metrics[1]"
      ],
      "execution_count": 12,
      "outputs": []
    },
    {
      "cell_type": "code",
      "metadata": {
        "id": "fZi5bdvXTYB6"
      },
      "source": [
        "# Roulette wheel selection method\n",
        "def selection(population_fitness):\n",
        "  total = sum(population_fitness)\n",
        "  percentage = [round((x/total) * 100) for x in population_fitness]\n",
        "  selection_wheel = []\n",
        "  for pop_index,num in enumerate(percentage):\n",
        "    selection_wheel.extend([pop_index]*num)\n",
        "  parent1_ind = choice(selection_wheel)\n",
        "  parent2_ind = choice(selection_wheel)\n",
        "  return [parent1_ind, parent2_ind]"
      ],
      "execution_count": 13,
      "outputs": []
    },
    {
      "cell_type": "code",
      "metadata": {
        "id": "CbOzkQSaTb70"
      },
      "source": [
        "def crossover(parent1, parent2):\n",
        "  child1 = {}\n",
        "  child2 = {}\n",
        "\n",
        "  child1[\"f1\"] = choice([parent1[\"f1\"], parent2[\"f1\"]])\n",
        "  child1[\"f2\"] = choice([parent1[\"f2\"], parent2[\"f2\"]])\n",
        "  child1[\"f3\"] = choice([parent1[\"f3\"], parent2[\"f3\"]])\n",
        "\n",
        "  child2[\"f1\"] = choice([parent1[\"f1\"], parent2[\"f1\"]])\n",
        "  child2[\"f2\"] = choice([parent1[\"f2\"], parent2[\"f2\"]])\n",
        "  child2[\"f3\"] = choice([parent1[\"f3\"], parent2[\"f3\"]])\n",
        "\n",
        "  child1[\"k\"] = choice([parent1[\"k\"], parent2[\"k\"]])\n",
        "  child2[\"k\"] = choice([parent1[\"k\"], parent2[\"k\"]])\n",
        "\n",
        "  child1[\"a1\"] = parent1[\"a2\"]\n",
        "  child2[\"a1\"] = parent2[\"a2\"]\n",
        "\n",
        "  child1[\"a2\"] = parent2[\"a1\"]\n",
        "  child2[\"a2\"] = parent1[\"a1\"]\n",
        "\n",
        "  child1[\"d1\"] = parent1[\"d1\"]\n",
        "  child2[\"d1\"] = parent2[\"d1\"]\n",
        "\n",
        "  child1[\"d2\"] = parent2[\"d2\"]\n",
        "  child2[\"d2\"] = parent1[\"d2\"]\n",
        "\n",
        "  child1[\"op\"] = parent2[\"op\"]\n",
        "  child2[\"op\"] = parent1[\"op\"]\n",
        "\n",
        "  child1[\"ep\"] = parent1[\"ep\"]\n",
        "  child2[\"ep\"] = parent2[\"ep\"]\n",
        "  return [child1, child2]"
      ],
      "execution_count": 14,
      "outputs": []
    },
    {
      "cell_type": "code",
      "metadata": {
        "id": "82SvIpDDTgvK"
      },
      "source": [
        "def mutation(chromosome):\n",
        "  flag = randint(0,40)\n",
        "  if flag <= 20:\n",
        "    chromosome[\"ep\"] += randint(0, 10)\n",
        "  return chromosome"
      ],
      "execution_count": 15,
      "outputs": []
    },
    {
      "cell_type": "code",
      "metadata": {
        "colab": {
          "base_uri": "https://localhost:8080/"
        },
        "id": "TtCAqsbMTibY",
        "outputId": "efb83ae6-d288-4286-f187-c0f534dfc152"
      },
      "source": [
        "generations = 3\n",
        "threshold = 90\n",
        "num_pop = 10\n",
        "\n",
        "population = generate_population(num_pop)\n",
        "\n",
        "for generation in range(generations):\n",
        "\n",
        "  population_fitness = []\n",
        "  for chromosome in population:\n",
        "    f1 = chromosome[\"f1\"]\n",
        "    f2 = chromosome[\"f2\"]\n",
        "    f3 = chromosome[\"f3\"]\n",
        "    k = chromosome[\"k\"]\n",
        "    a1 = chromosome[\"a1\"]\n",
        "    a2 = chromosome[\"a2\"]\n",
        "    d1 = chromosome[\"d1\"]\n",
        "    d2 = chromosome[\"d2\"]\n",
        "    op = chromosome[\"op\"]\n",
        "    ep = chromosome[\"ep\"]\n",
        "\n",
        "    try:\n",
        "      model = CNN_model(f1, f2, f3, k, a1, a2, d1, d2, op, ep)\n",
        "      acc = fitness_evaluation(model)\n",
        "      print(\"Parameters: \", chromosome)\n",
        "      print(\"Accuracy: \", round(acc,3))\n",
        "    except:\n",
        "      acc=0\n",
        "      print(\"Parameters: \", chromosome)\n",
        "      print(\"Invalid parameters - Build fail\")\n",
        "\n",
        "    population_fitness.append(acc)\n",
        "    \n",
        "  parents_ind = selection(population_fitness)\n",
        "  parent1 = population[parents_ind[0]]\n",
        "  parent2 = population[parents_ind[1]]\n",
        "\n",
        "  children = crossover(parent1, parent2)\n",
        "  child1 = mutation(children[0])\n",
        "  child2 = mutation(children[1])\n",
        "\n",
        "  population.append(child1)\n",
        "  population.append(child2)\n",
        "\n",
        "  print(\"Generation \", generation+1,\" Outcome: \")\n",
        "  if max(population_fitness) >= threshold:\n",
        "    print(\"Obtained desired accuracy: \", max(population_fitness))\n",
        "    break\n",
        "  else:\n",
        "    print(\"Maximum accuracy in generation {} : {}\".format(generation+1, max(population_fitness)))\n",
        "\n",
        "  first_min = min(population_fitness)\n",
        "  first_min_ind = population_fitness.index(first_min)\n",
        "  population.remove(population[first_min_ind])\n",
        "  second_min = min(population_fitness)\n",
        "  second_min_ind = population_fitness.index(second_min)\n",
        "  population.remove(population[second_min_ind])"
      ],
      "execution_count": null,
      "outputs": [
        {
          "output_type": "stream",
          "name": "stdout",
          "text": [
            "313/313 [==============================] - 2s 7ms/step - loss: 1.9295 - accuracy: 0.3015\n",
            "Parameters:  {'f1': 64, 'f2': 64, 'f3': 128, 'k': 5, 'a1': 'relu', 'a2': 'relu', 'd1': 0.4, 'd2': 0.4, 'op': 'adadelta', 'ep': 69}\n",
            "Accuracy:  0.301\n",
            "313/313 [==============================] - 2s 6ms/step - loss: 1.1602 - accuracy: 0.5924\n",
            "Parameters:  {'f1': 64, 'f2': 64, 'f3': 512, 'k': 5, 'a1': 'selu', 'a2': 'elu', 'd1': 0.2, 'd2': 0.2, 'op': 'adagrad', 'ep': 50}\n",
            "Accuracy:  0.592\n",
            "313/313 [==============================] - 2s 6ms/step - loss: 1.3233 - accuracy: 0.5269\n",
            "Parameters:  {'f1': 32, 'f2': 64, 'f3': 256, 'k': 5, 'a1': 'relu', 'a2': 'elu', 'd1': 0.2, 'd2': 0.2, 'op': 'adagrad', 'ep': 56}\n",
            "Accuracy:  0.527\n",
            "313/313 [==============================] - 2s 7ms/step - loss: 1.1126 - accuracy: 0.7456\n",
            "Parameters:  {'f1': 64, 'f2': 128, 'f3': 128, 'k': 5, 'a1': 'relu', 'a2': 'relu', 'd1': 0.2, 'd2': 0.4, 'op': 'adamax', 'ep': 97}\n",
            "Accuracy:  0.746\n",
            "313/313 [==============================] - 3s 8ms/step - loss: 1.2129 - accuracy: 0.5706\n",
            "Parameters:  {'f1': 64, 'f2': 64, 'f3': 512, 'k': 3, 'a1': 'elu', 'a2': 'relu', 'd1': 0.3, 'd2': 0.5, 'op': 'adagrad', 'ep': 88}\n",
            "Accuracy:  0.571\n",
            "313/313 [==============================] - 2s 6ms/step - loss: 0.8489 - accuracy: 0.7375\n",
            "Parameters:  {'f1': 32, 'f2': 64, 'f3': 128, 'k': 5, 'a1': 'elu', 'a2': 'elu', 'd1': 0.5, 'd2': 0.3, 'op': 'adam', 'ep': 56}\n",
            "Accuracy:  0.738\n",
            "313/313 [==============================] - 2s 6ms/step - loss: 1.0214 - accuracy: 0.7483\n",
            "Parameters:  {'f1': 64, 'f2': 64, 'f3': 128, 'k': 5, 'a1': 'relu', 'a2': 'relu', 'd1': 0.2, 'd2': 0.4, 'op': 'adamax', 'ep': 97}\n",
            "Accuracy:  0.748\n",
            "313/313 [==============================] - 2s 6ms/step - loss: 0.8338 - accuracy: 0.7222\n",
            "Parameters:  {'f1': 64, 'f2': 64, 'f3': 128, 'k': 5, 'a1': 'selu', 'a2': 'elu', 'd1': 0.4, 'd2': 0.2, 'op': 'adam', 'ep': 51}\n",
            "Accuracy:  0.722\n",
            "313/313 [==============================] - 3s 8ms/step - loss: 1.4774 - accuracy: 0.4805\n",
            "Parameters:  {'f1': 64, 'f2': 128, 'f3': 256, 'k': 3, 'a1': 'selu', 'a2': 'elu', 'd1': 0.4, 'd2': 0.2, 'op': 'adadelta', 'ep': 79}\n",
            "Accuracy:  0.481\n",
            "Parameters:  {'f1': 32, 'f2': 128, 'f3': 512, 'k': 3, 'a1': 'relu', 'a2': 'selu', 'd1': 0.5, 'd2': 0.5, 'op': 'adagrad', 'ep': 98}\n",
            "Invalid parameters - Build fail\n",
            "Generation  1  Outcome: \n",
            "Maximum accuracy in generation 1 : 0.7483000159263611\n",
            "Parameters:  {'f1': 64, 'f2': 64, 'f3': 128, 'k': 5, 'a1': 'relu', 'a2': 'relu', 'd1': 0.4, 'd2': 0.4, 'op': 'adadelta', 'ep': 69}\n",
            "Invalid parameters - Build fail\n",
            "Parameters:  {'f1': 64, 'f2': 64, 'f3': 512, 'k': 5, 'a1': 'selu', 'a2': 'elu', 'd1': 0.2, 'd2': 0.2, 'op': 'adagrad', 'ep': 50}\n",
            "Invalid parameters - Build fail\n"
          ]
        }
      ]
    }
  ]
}